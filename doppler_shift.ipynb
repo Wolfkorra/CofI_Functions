{
  "nbformat": 4,
  "nbformat_minor": 0,
  "metadata": {
    "colab": {
      "provenance": [],
      "authorship_tag": "ABX9TyNcrEYCid8KYhq46DGmxa8+",
      "include_colab_link": true
    },
    "kernelspec": {
      "name": "python3",
      "display_name": "Python 3"
    },
    "language_info": {
      "name": "python"
    }
  },
  "cells": [
    {
      "cell_type": "markdown",
      "metadata": {
        "id": "view-in-github",
        "colab_type": "text"
      },
      "source": [
        "<a href=\"https://colab.research.google.com/github/mwbest/CofI_Functions/blob/main/doppler_shift.ipynb\" target=\"_parent\"><img src=\"https://colab.research.google.com/assets/colab-badge.svg\" alt=\"Open In Colab\"/></a>"
      ]
    },
    {
      "cell_type": "code",
      "execution_count": 1,
      "metadata": {
        "id": "hT_r779i-jAm"
      },
      "outputs": [],
      "source": [
        "__all__ = ['doppler_shift']\n",
        "def doppler_shift(rest, obs, velocity):\n",
        "  \"\"\"\n",
        "  Function for calculating any one of the inputs based on the values for the other two. Input 'False' for\n",
        "  the value you intend to find. Equation is more exact than dopplet_shift_approx_rest.\n",
        "\n",
        "  Parameters:\n",
        "\n",
        "  rest: Quantity\n",
        "  The wavelength at rest, preferably in Angstroms. Must have the same units as obs.\n",
        "\n",
        "  obs: Quantity\n",
        "  The observed wavelength in your data, preferably in Angstroms. Must have the same units as rest.\n",
        "\n",
        "  velocity: Quantity\n",
        "  The heliocentric velocity of the object you are measuring, in km/sec.\n",
        "\n",
        "  Returns:\n",
        "\n",
        "  observed (if rest, velocity are False): Quantity\n",
        "  rest_wave (if obs, velocity are False): Quantity\n",
        "  vel (if rest, obs are False): Quantity\n",
        "\n",
        "  \"\"\"\n",
        "  c = 299729\n",
        "\n",
        "  if obs == False:\n",
        "    observed = rest * ((1 + velocity / c)/(1 - velocity / c)) ** 0.5\n",
        "    return observed\n",
        "\n",
        "  elif rest == False:\n",
        "    rest_wave = obs/(((1 + velocity / c)/(1 - velocity / c)) ** 0.5)\n",
        "    return rest_wave\n",
        "\n",
        "  elif velocity == False:\n",
        "    vel = -c * ((obs / rest) ** 2 - 1)/((obs / rest) ** 2 + 1)\n",
        "    return vel"
      ]
    }
  ]
}